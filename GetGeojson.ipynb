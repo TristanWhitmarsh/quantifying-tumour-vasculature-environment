{
 "cells": [
  {
   "cell_type": "code",
   "execution_count": null,
   "id": "f94cedd6-cc89-453f-9ab6-9c85fcc18b62",
   "metadata": {},
   "outputs": [],
   "source": [
    "# https://gis.stackexchange.com/questions/294206/create-a-polygon-from-coordinates-in-geopandas-with-python\n",
    "# https://gist.github.com/rohanpsingh/0aa3d35d8e038a9c2491c68894f0b93b\n",
    "\n",
    "from skimage import measure\n",
    "from PIL import Image\n",
    "import numpy as np\n",
    "import geopandas as gpd\n",
    "import glob\n",
    "from shapely.geometry import Polygon\n",
    "Image.MAX_IMAGE_PIXELS = None\n",
    "\n",
    "directoryProcessed = './FullInferenceGrahamProcessed/'\n",
    "\n",
    "for file in glob.glob(\"./FullInferenceGrahamProcessed/*_vessel.png\"):\n",
    "    \n",
    "    (filename, x) = os.path.splitext(os.path.basename(file))\n",
    "    name = filename.split(\"_\")[0]\n",
    "    print(name)\n",
    "    \n",
    "\n",
    "    im = Image.open(file)\n",
    "    imarray = np.array(im)\n",
    "\n",
    "    crs = {'init': 'epsg:4326'}\n",
    "    first = True\n",
    "\n",
    "\n",
    "    sub_mask = imarray == 1\n",
    "    contours = measure.find_contours(sub_mask, 0.5, positive_orientation='low')\n",
    "\n",
    "\n",
    "    polygons = []\n",
    "    for contour in contours:\n",
    "        # Flip from (row, col) representation to (x, y)\n",
    "        # and subtract the padding pixel\n",
    "        for i in range(len(contour)):\n",
    "            row, col = contour[i]\n",
    "            contour[i] = (col - 1, row - 1)\n",
    "\n",
    "        # Make a polygon and simplify it\n",
    "        poly = Polygon(contour)\n",
    "        #poly = poly.simplify(1.0, preserve_topology=True)\n",
    "        polygons.append(poly)\n",
    "\n",
    "    print(len(polygons))\n",
    "\n",
    "    polygon = gpd.GeoDataFrame(index=[], crs=crs, geometry=[])  \n",
    "    for p in polygons:\n",
    "        polygon = gpd.GeoDataFrame(index=[0], crs=crs, geometry=[p])     \n",
    "        polygon = polygon.geometry.append(polygon.geometry)    \n",
    "\n",
    "    polygon.to_file(filename=directoryProcessed + name + '_vessel.geojson', driver='GeoJSON')\n"
   ]
  },
  {
   "cell_type": "code",
   "execution_count": null,
   "id": "ce0b129d-9700-4735-b108-a790fd1517dc",
   "metadata": {},
   "outputs": [],
   "source": []
  }
 ],
 "metadata": {
  "kernelspec": {
   "display_name": "Python 3 (ipykernel)",
   "language": "python",
   "name": "python3"
  },
  "language_info": {
   "codemirror_mode": {
    "name": "ipython",
    "version": 3
   },
   "file_extension": ".py",
   "mimetype": "text/x-python",
   "name": "python",
   "nbconvert_exporter": "python",
   "pygments_lexer": "ipython3",
   "version": "3.9.6"
  }
 },
 "nbformat": 4,
 "nbformat_minor": 5
}
