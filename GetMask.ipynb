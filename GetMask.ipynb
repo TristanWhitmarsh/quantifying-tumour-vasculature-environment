{
 "cells": [
  {
   "cell_type": "code",
   "execution_count": 10,
   "id": "skilled-obligation",
   "metadata": {},
   "outputs": [
    {
     "name": "stdout",
     "output_type": "stream",
     "text": [
      "Defaulting to user installation because normal site-packages is not writeable\n",
      "Looking in indexes: https://pypi.org/simple, https://imaxt.ast.cam.ac.uk/pip/\n",
      "Requirement already satisfied: tqdm in /opt/conda/lib/python3.9/site-packages (4.61.2)\n",
      "/opt/conda/bin/python: No module named !pip\n"
     ]
    }
   ],
   "source": [
    "import sys\n",
    "#!{sys.executable} -m pip install fiona\n",
    "#!{sys.executable} -m pip install rasterio\n",
    "#!{sys.executable} -m pip install shapely\n",
    "#!{sys.executable} -m pip install geopandas\n",
    "!{sys.executable} -m pip install tqdm\n",
    "!{sys.executable} -m !pip install time\n"
   ]
  },
  {
   "cell_type": "code",
   "execution_count": 19,
   "id": "suitable-connectivity",
   "metadata": {},
   "outputs": [],
   "source": [
    "\n",
    "import os\n",
    "\n",
    "import rasterio\n",
    "from rasterio.plot import reshape_as_image\n",
    "import rasterio.mask\n",
    "from rasterio.features import rasterize\n",
    "\n",
    "import pandas as pd\n",
    "import geopandas as gpd\n",
    "from shapely.geometry import mapping, Point, Polygon\n",
    "from shapely.ops import cascaded_union\n",
    "\n",
    "import numpy as np\n",
    "import cv2\n",
    "import matplotlib.pyplot as plt\n",
    "from PIL import Image\n",
    "\n",
    "from scipy import ndimage\n",
    "from tqdm import tqdm\n",
    "import time\n",
    "\n",
    "#https://lpsmlgeo.github.io/2019-09-22-binary_mask/\n",
    "def generate_mask(raster_path, shape_path, file_name):\n",
    "    \n",
    "    \"\"\"Function that generates a binary mask from a vector file (shp or geojson)\n",
    "    \n",
    "    raster_path = path to the .tif;\n",
    "\n",
    "    shape_path = path to the shapefile or GeoJson.\n",
    "\n",
    "    output_path = Path to save the binary mask.\n",
    "\n",
    "    file_name = Name of the file.\n",
    "    \n",
    "    \"\"\"\n",
    "    \n",
    "    #load raster\n",
    "    \n",
    "    with rasterio.open(raster_path, \"r\") as src:\n",
    "        raster_img = src.read()\n",
    "        raster_meta = src.meta\n",
    "    \n",
    "    #load o shapefile ou GeoJson\n",
    "    train_df = gpd.read_file(shape_path)\n",
    "    \n",
    "    #Verify crs\n",
    "    if train_df.crs != src.crs:\n",
    "        print(\" Raster crs : {}, Vector crs : {}.\\n Convert vector and raster to the same CRS.\".format(src.crs,train_df.crs))\n",
    "        \n",
    "        \n",
    "    #Function that generates the mask\n",
    "    def poly_from_utm(polygon, transform):\n",
    "        poly_pts = []\n",
    "\n",
    "        poly = cascaded_union(polygon)\n",
    "        for i in np.array(poly.exterior.coords):\n",
    "            poly_pts.append(~transform * tuple(i))\n",
    "\n",
    "        new_poly = Polygon(poly_pts)\n",
    "        return new_poly\n",
    "    \n",
    "    mask_list = []\n",
    "    count = 1\n",
    "    im_size = (src.meta['height'], src.meta['width'])\n",
    "    print(im_size)\n",
    "    \n",
    "    mask_all = np.zeros(im_size).astype(bool)\n",
    "    \n",
    "    for num, row in tqdm(train_df.iterrows()):\n",
    "        poly_shp = []\n",
    "        if row['geometry'].geom_type == 'Polygon':\n",
    "            poly = poly_from_utm(row['geometry'], src.meta['transform'])\n",
    "            poly_shp.append(poly)\n",
    "        else:\n",
    "            for p in row['geometry']:\n",
    "                poly = poly_from_utm(p, src.meta['transform'])\n",
    "                poly_shp.append(poly)\n",
    "        new_mask = rasterize(shapes=poly_shp, out_shape=im_size)\n",
    "        #mask = ndimage.distance_transform_edt(new_mask)\n",
    "        #mask_list.append(mask)\n",
    "        mask_all = mask_all + new_mask.astype(bool)\n",
    "    \n",
    "    #masks = np.asarray(mask_list)\n",
    "    #mask = np.argmax(masks, axis=0)\n",
    "    \n",
    "    #Salve\n",
    "    mask_all = mask_all.astype(bool)\n",
    "    im = Image.fromarray(mask_all)\n",
    "    im.save(file_name)\n",
    "    \n",
    "    # bin_mask_meta = src.meta.copy()\n",
    "    # bin_mask_meta.update({'count': 1})\n",
    "    # #os.chdir(output_path)\n",
    "    # with rasterio.open(file_name, 'w', **bin_mask_meta) as dst:\n",
    "    #     dst.write(mask, 1)\n",
    "\n",
    "    # plt.rcParams[\"figure.figsize\"] = (50,50)\n",
    "    # fig = plt.figure()\n",
    "    # ax1 = fig.add_subplot(5,5,1)\n",
    "    # ax1.imshow(mask)\n"
   ]
  },
  {
   "cell_type": "code",
   "execution_count": null,
   "id": "prerequisite-delicious",
   "metadata": {},
   "outputs": [
    {
     "name": "stdout",
     "output_type": "stream",
     "text": [
      "FullInferenceGrahamCleaned/790046_cleaned.geojson\n",
      "790046_\n"
     ]
    },
    {
     "name": "stderr",
     "output_type": "stream",
     "text": [
      "/opt/conda/lib/python3.9/site-packages/rasterio/__init__.py:220: NotGeoreferencedWarning: Dataset has no geotransform, gcps, or rpcs. The identity matrix be returned.\n",
      "  s = DatasetReader(path, driver=driver, sharing=sharing, **kwargs)\n"
     ]
    },
    {
     "name": "stdout",
     "output_type": "stream",
     "text": [
      " Raster crs : None, Vector crs : epsg:4326.\n",
      " Convert vector and raster to the same CRS.\n",
      "(8252, 31872)\n"
     ]
    },
    {
     "name": "stderr",
     "output_type": "stream",
     "text": [
      "0it [00:00, ?it/s]/tmp/ipykernel_1404/93537061.py:55: ShapelyDeprecationWarning: The 'cascaded_union()' function is deprecated. Use 'unary_union()' instead.\n",
      "  poly = cascaded_union(polygon)\n",
      "1395it [10:58,  2.12it/s]\n"
     ]
    },
    {
     "name": "stdout",
     "output_type": "stream",
     "text": [
      "FullInferenceGrahamCleaned/790035_cleaned.geojson\n",
      "790035_\n"
     ]
    },
    {
     "name": "stderr",
     "output_type": "stream",
     "text": [
      "/opt/conda/lib/python3.9/site-packages/rasterio/__init__.py:220: NotGeoreferencedWarning: Dataset has no geotransform, gcps, or rpcs. The identity matrix be returned.\n",
      "  s = DatasetReader(path, driver=driver, sharing=sharing, **kwargs)\n"
     ]
    },
    {
     "name": "stdout",
     "output_type": "stream",
     "text": [
      " Raster crs : None, Vector crs : epsg:4326.\n",
      " Convert vector and raster to the same CRS.\n",
      "(34933, 21912)\n"
     ]
    },
    {
     "name": "stderr",
     "output_type": "stream",
     "text": [
      "0it [00:00, ?it/s]/tmp/ipykernel_1404/93537061.py:55: ShapelyDeprecationWarning: The 'cascaded_union()' function is deprecated. Use 'unary_union()' instead.\n",
      "  poly = cascaded_union(polygon)\n",
      "159it [03:29,  1.30s/it]"
     ]
    }
   ],
   "source": [
    "# generate_mask(\"17.11.20_HCC38_1_7168_9600.tif\", \"17.11.20_HCC38_1_7168_9600.geojson\", \"output_path\", \"file_name.tif\")\n",
    "# generate_mask(\"Glioma_5_s1z1c5_ORG.tif\", \"Glioma_5_s1z1c5_ORG.geojson\", \"output_path\", \"file_name.tif\")\n",
    "# generate_mask(\"FullInferenceGrahamProcessed/790063_vessel.png\", \"FullInferenceGrahamProcessed/790063_vessel.geojson\", \"output_path\", \"file_name.png\")\n",
    "\n",
    "import glob\n",
    "\n",
    "\n",
    "for file in glob.glob(\"FullInferenceGrahamCleaned/*.geojson\"):\n",
    "\n",
    "    print(file)\n",
    "    name = os.path.basename(file[:-15])\n",
    "    print(name)\n",
    "    \n",
    "    image_name = \"FullInferenceGrahamProcessed/\" + name + \"vessel.png\"\n",
    "    output = \"FullInferenceGrahamCleaned/\" + name + \"cleaned.png\"\n",
    "    \n",
    "    generate_mask(image_name, file, output)\n",
    "\n",
    "\n",
    "\n",
    "\n"
   ]
  },
  {
   "cell_type": "code",
   "execution_count": null,
   "id": "146acef2-8b86-4a55-bcc2-e3a29ffd9a71",
   "metadata": {},
   "outputs": [],
   "source": []
  }
 ],
 "metadata": {
  "kernelspec": {
   "display_name": "Python 3 (ipykernel)",
   "language": "python",
   "name": "python3"
  },
  "language_info": {
   "codemirror_mode": {
    "name": "ipython",
    "version": 3
   },
   "file_extension": ".py",
   "mimetype": "text/x-python",
   "name": "python",
   "nbconvert_exporter": "python",
   "pygments_lexer": "ipython3",
   "version": "3.9.6"
  }
 },
 "nbformat": 4,
 "nbformat_minor": 5
}
