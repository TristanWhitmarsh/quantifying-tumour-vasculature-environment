{
 "cells": [
  {
   "cell_type": "code",
   "execution_count": 1,
   "id": "9e12f689-9eea-4ac0-8e1e-efa67c22d773",
   "metadata": {},
   "outputs": [
    {
     "name": "stdout",
     "output_type": "stream",
     "text": [
      "0.3373403234360709\n",
      "0.8343474523045873\n"
     ]
    },
    {
     "name": "stderr",
     "output_type": "stream",
     "text": [
      "/tmp/ipykernel_34159/3016761545.py:52: UserWarning: Attempted to set non-positive bottom ylim on a log-scaled axis.\n",
      "Invalid limit will be ignored.\n",
      "  ax1.set_ylim([0, 50])\n",
      "/tmp/ipykernel_34159/3016761545.py:70: UserWarning: Attempted to set non-positive bottom ylim on a log-scaled axis.\n",
      "Invalid limit will be ignored.\n",
      "  ax2.set_ylim([0, 1.4])\n"
     ]
    },
    {
     "data": {
      "image/png": "[encoded data removed]",
      "text/plain": [
       "<Figure size 504x504 with 2 Axes>"
      ]
     },
     "metadata": {},
     "output_type": "display_data"
    },
    {
     "data": {
      "text/plain": [
       "<Figure size 432x288 with 0 Axes>"
      ]
     },
     "metadata": {},
     "output_type": "display_data"
    }
   ],
   "source": [
    "import matplotlib.pyplot as plt\n",
    "import seaborn as sns\n",
    "import pandas as pd\n",
    "import matplotlib.gridspec as gridspec\n",
    "from numpy import genfromtxt\n",
    "from scipy.stats import ttest_ind\n",
    "from matplotlib.colors import ListedColormap\n",
    "from matplotlib.ticker import FuncFormatter\n",
    "from matplotlib.patches import Patch\n",
    "import numpy as np\n",
    "\n",
    "sns.set(style=\"whitegrid\")\n",
    "\n",
    "my_pal = {0: (29/256.0, 236/256.0, 244/256.0), 1: (253/256.0, 105/256.0, 179/256.0)}\n",
    "\n",
    "plt.figure(figsize=(7,7))\n",
    "plt.tight_layout()\n",
    "\n",
    "ax1=plt.subplot(1, 2, 1)\n",
    "ax2=plt.subplot(1, 2, 2)\n",
    "#ax1 = fig.add_subplot(gs[0, 0])\n",
    "# counts = pd.read_csv(\"measurements/tumor_vascular_parameters.csv\", dtype={'Name': 'string'})\n",
    "counts = pd.read_csv(\"measurements/tumor_tissue_ratios.csv\", dtype={'Name': 'string'})\n",
    "classes = pd.read_csv(\"measurements/NodeStatusAndGradeERPos.csv\", dtype={'Name': 'string'})\n",
    "\n",
    "counts['Node'] = np.nan\n",
    "\n",
    "for index, row in classes.iterrows():\n",
    "    for index2, row2 in counts.iterrows():\n",
    "        if row['Name'][:-4] == row2['Name']:\n",
    "            counts.loc[index2, 'Node'] = row['Node']\n",
    "\n",
    "counts = counts.drop(counts[counts['Node'].isna()].index)\n",
    "# print(classes)\n",
    "# print(counts)\n",
    "\n",
    "cat1 = counts[counts['Node']==0]['stroma_tumor_ratio']\n",
    "cat2 = counts[counts['Node']==1]['stroma_tumor_ratio']\n",
    "ax1 = sns.boxplot(x='Node', y='stroma_tumor_ratio', palette=my_pal, data=counts, ax=ax1, saturation=1)\n",
    "ax1.set(ylabel=\"\", xlabel=\"\")\n",
    "ax1.set(xticklabels=[])\n",
    "ax1.set_title('stroma/tumor ratio')\n",
    "ax1.grid(axis='y', which='minor')\n",
    "t, p = ttest_ind(cat1, cat2, axis=0, nan_policy='propagate')\n",
    "x1, x2 = 0, 1 \n",
    "print(p)\n",
    "y, h, col = counts['stroma_tumor_ratio'].max() + 5, 2, 'k'\n",
    "ax1.plot([x1, x1, x2, x2], [y, y+h, y+h, y], lw=1, c=col)\n",
    "ax1.text((x1+x2)*.5, y+h, \"p={:.2f}\".format(p), ha='center', va='bottom', color=col)\n",
    "\n",
    "ax1.set_yscale('log')\n",
    "ax1.set_ylim([0, 50])\n",
    "\n",
    "cat1 = counts[counts['Node']==0]['lymphocyte_stroma_ratio']\n",
    "cat2 = counts[counts['Node']==1]['lymphocyte_stroma_ratio']\n",
    "ax2 = sns.boxplot(x='Node', y='lymphocyte_stroma_ratio', palette=my_pal, data=counts, ax=ax2, saturation=1)\n",
    "ax2.set(ylabel=\"\", xlabel=\"\")\n",
    "ax2.set(xticklabels=[])\n",
    "ax2.set_title('lymphocyte/stroma ratio')\n",
    "ax2.grid(axis='y', which='minor')\n",
    "\n",
    "t, p = ttest_ind(cat1, cat2, axis=0, nan_policy='propagate')\n",
    "x1, x2 = 0, 1 \n",
    "print(p)\n",
    "y, h, col = counts['lymphocyte_stroma_ratio'].max() + 0.3, 0.1, 'k'\n",
    "ax2.plot([x1, x1, x2, x2], [y, y+h, y+h, y], lw=1, c=col)\n",
    "ax2.text((x1+x2)*.5, y+h, \"p={:.2f}\".format(p), ha='center', va='bottom', color=col)\n",
    "\n",
    "ax2.set_yscale('log')\n",
    "ax2.set_ylim([0, 1.4])\n",
    "\n",
    "\n",
    "\n",
    "legend_elements = [Patch(facecolor=(29/256.0, 236/256.0, 244/256.0), edgecolor='black', label='Node negative'),\n",
    "                    Patch(facecolor=(253/256.0, 105/256.0, 179/256.0), edgecolor='black', label='Node positive')]\n",
    "plt.legend(handles=legend_elements, bbox_to_anchor=(-0.16,1.2), loc='upper center', ncol=2 , prop={'size': 20, 'weight':'normal'})\n",
    "\n",
    "\n",
    "\n",
    "for item in ([ax1.title, ax1.xaxis.label, ax1.yaxis.label] + ax1.get_xticklabels() + ax1.get_yticklabels()):\n",
    "    item.set_fontsize(12)\n",
    "for item in ([ax2.title, ax2.xaxis.label, ax2.yaxis.label] + ax2.get_xticklabels() + ax2.get_yticklabels()):\n",
    "    item.set_fontsize(12)\n",
    "\n",
    "\n",
    "plt.subplots_adjust(wspace=0.3)\n",
    "\n",
    "plt.show()\n",
    "plt.savefig(\"measurements/boxplot_stroma_lymphocyte_node.pdf\", bbox_inches = 'tight')\n",
    "\n"
   ]
  },
  {
   "cell_type": "code",
   "execution_count": null,
   "id": "74744712-36a8-491c-ba37-56a3b9b05161",
   "metadata": {},
   "outputs": [],
   "source": []
  }
 ],
 "metadata": {
  "kernelspec": {
   "display_name": "Python 3 (ipykernel)",
   "language": "python",
   "name": "python3"
  },
  "language_info": {
   "codemirror_mode": {
    "name": "ipython",
    "version": 3
   },
   "file_extension": ".py",
   "mimetype": "text/x-python",
   "name": "python",
   "nbconvert_exporter": "python",
   "pygments_lexer": "ipython3",
   "version": "3.11.5"
  }
 },
 "nbformat": 4,
 "nbformat_minor": 5
}
